{
 "cells": [
  {
   "cell_type": "markdown",
   "id": "0a465796-50ec-473c-af23-2a665423825b",
   "metadata": {},
   "source": [
    "# Data Science Tools and Ecosystem"
   ]
  },
  {
   "cell_type": "markdown",
   "id": "178e2b55-bf68-44b6-aa75-fd6a71566f16",
   "metadata": {},
   "source": [
    "Data science tools and ecosystems will be summarized below. "
   ]
  },
  {
   "cell_type": "markdown",
   "id": "3e642ff6-385a-4357-8f6b-4058e2c0e6cd",
   "metadata": {},
   "source": [
    "__Objectives:__\n",
    "\n",
    "- List of common languages\n",
    "- List of common libraries\n",
    "- Table of data science tools\n",
    "- Examples of arithmetic expressions"
   ]
  },
  {
   "cell_type": "markdown",
   "id": "8c5b57f9-3ed9-42b0-a8f3-3d2ebf43d44f",
   "metadata": {},
   "source": [
    "Common languages that data scientists utilize are:\n",
    "    \n",
    "    1. Python\n",
    "    2. R\n",
    "    3. SQL"
   ]
  },
  {
   "cell_type": "markdown",
   "id": "17461ae6-33ce-46dc-8930-92f3a7b1e937",
   "metadata": {},
   "source": [
    "Common libraries that data scientists use are:\n",
    "    \n",
    "    1. TensorFlow\n",
    "    2. PyTorch\n",
    "    3. NumPy\n",
    "    4. Keras"
   ]
  },
  {
   "cell_type": "markdown",
   "id": "f4483af3-a0fc-4380-99c5-c12b71adb219",
   "metadata": {},
   "source": [
    "| Data Science Tools |\n",
    "|--------------------|\n",
    "| Jupyter |\n",
    "| RStudio | \n",
    "| Spyder |"
   ]
  },
  {
   "cell_type": "markdown",
   "id": "bae50c8c-a1bd-477d-8c24-81b0b0fe7bb4",
   "metadata": {},
   "source": [
    "### Examples of Arithmetic Expressions"
   ]
  },
  {
   "cell_type": "code",
   "execution_count": 3,
   "id": "23702516-081a-4a31-bfd4-d3b20f5dc247",
   "metadata": {},
   "outputs": [
    {
     "data": {
      "text/plain": [
       "17"
      ]
     },
     "execution_count": 3,
     "metadata": {},
     "output_type": "execute_result"
    }
   ],
   "source": [
    "# This a simple arithmetic expression to multiply then add integers\n",
    "(3*4)+5"
   ]
  },
  {
   "cell_type": "code",
   "execution_count": 5,
   "id": "2be0388e-1a63-4ae8-a442-7bb9f9327fe4",
   "metadata": {},
   "outputs": [
    {
     "data": {
      "text/plain": [
       "3.3333333333333335"
      ]
     },
     "execution_count": 5,
     "metadata": {},
     "output_type": "execute_result"
    }
   ],
   "source": [
    "# This will convert 200 minutes to hours by diving by 60\n",
    "(200/60)"
   ]
  },
  {
   "cell_type": "markdown",
   "id": "e714ac5d-b81f-4b71-b3b9-b80d468ca91a",
   "metadata": {},
   "source": [
    "## Author\n",
    "Jacob Voth"
   ]
  }
 ],
 "metadata": {
  "kernelspec": {
   "display_name": "Python",
   "language": "python",
   "name": "conda-env-python-py"
  },
  "language_info": {
   "codemirror_mode": {
    "name": "ipython",
    "version": 3
   },
   "file_extension": ".py",
   "mimetype": "text/x-python",
   "name": "python",
   "nbconvert_exporter": "python",
   "pygments_lexer": "ipython3",
   "version": "3.7.12"
  }
 },
 "nbformat": 4,
 "nbformat_minor": 5
}
